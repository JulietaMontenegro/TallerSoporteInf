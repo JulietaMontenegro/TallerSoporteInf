{
  "nbformat": 4,
  "nbformat_minor": 0,
  "metadata": {
    "colab": {
      "provenance": []
    },
    "kernelspec": {
      "name": "python3",
      "display_name": "Python 3"
    },
    "language_info": {
      "name": "python"
    }
  },
  "cells": [
    {
      "cell_type": "code",
      "execution_count": 29,
      "metadata": {
        "id": "jDtvKKyBz8OY"
      },
      "outputs": [],
      "source": [
        "import pandas as pd\n",
        "import numpy as np\n",
        "\n",
        "csv = pd.read_csv(\"/Netflix Userbase.csv\")\n",
        "csvColumnas = list(csv.columns)\n",
        "\n",
        "csv['Gender'] = csv['Gender'].map({'Femenino': 'F', 'Masculino': 'M'})\n",
        "\n",
        "\n",
        "def modificarGenero(valor):\n",
        "    if pd.isna(valor):\n",
        "        return 'es nan'\n",
        "    valor = str(valor).lower()\n",
        "    if valor == 'female':\n",
        "        return 'F'\n",
        "    elif valor == 'male':\n",
        "        return 'M'\n",
        "\n",
        "\n",
        "\n",
        "\n",
        "\n",
        "def verificarTipoSuscripcion(valor):\n",
        "    tipos_permitidos = ['Premium', 'Standard', 'Basic']\n",
        "    if valor in tipos_permitidos:\n",
        "        return valor\n",
        "    else:\n",
        "        return None\n",
        "\n",
        "def verificarEdad(valor):\n",
        "    if valor < 18:\n",
        "        return 'F'\n",
        "\n",
        "\n",
        "csv['Subscription Type'] = csv['Subscription Type'].apply(verificarTipoSuscripcion)\n",
        "csv['Gender'] = csv['Gender'].apply(modificarGenero)\n",
        "\n",
        "csv = csv.drop(csv[csv['Age'] < 18].index)\n",
        "\n",
        "csv = csv.applymap(lambda x: x.lower() if isinstance(x, str) else x)\n",
        "\n",
        "csv.to_csv('/nuevo.csv')\n",
        "\n"
      ]
    }
  ]
}