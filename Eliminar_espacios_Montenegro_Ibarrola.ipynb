{
  "nbformat": 4,
  "nbformat_minor": 0,
  "metadata": {
    "colab": {
      "provenance": []
    },
    "kernelspec": {
      "name": "python3",
      "display_name": "Python 3"
    },
    "language_info": {
      "name": "python"
    }
  },
  "cells": [
    {
      "cell_type": "code",
      "source": [
        "from __future__ import annotations\n",
        "lista = []\n",
        "print(\"ingrese nombre\")\n",
        "nombre = input()\n",
        "lista.append(nombre);\n",
        "\n",
        "print(\"ingrese años\")\n",
        "anios = input()\n",
        "lista.append(anios);\n",
        "\n",
        "print(\"ingrese cm altura\")\n",
        "altura = input()\n",
        "lista.append(altura);\n",
        "\n",
        "def eliminarEspacios(lista):\n",
        "  for i in range(len(lista)):\n",
        "    lista[i]=str(lista[i]).replace(\" \", \"\")\n",
        "\n",
        "\n",
        "eliminarEspacios(lista)\n",
        "print(lista)\n",
        "\n",
        "\n",
        "\n"
      ],
      "metadata": {
        "id": "jLuFWfVH3Smh",
        "colab": {
          "base_uri": "https://localhost:8080/"
        },
        "outputId": "71265eb7-927a-472d-a7e1-48a2446a27e0"
      },
      "execution_count": null,
      "outputs": [
        {
          "output_type": "stream",
          "name": "stdout",
          "text": [
            "ingrese nombre\n",
            "ca mi l a \n",
            "ingrese años\n",
            "1 8 \n",
            "ingrese cm altura\n",
            "1 54\n",
            "['camila', '18', '154']\n"
          ]
        }
      ]
    }
  ]
}