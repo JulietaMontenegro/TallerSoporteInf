{
  "nbformat": 4,
  "nbformat_minor": 0,
  "metadata": {
    "colab": {
      "provenance": []
    },
    "kernelspec": {
      "name": "python3",
      "display_name": "Python 3"
    },
    "language_info": {
      "name": "python"
    }
  },
  "cells": [
    {
      "cell_type": "code",
      "execution_count": 1,
      "metadata": {
        "id": "UU3cprXYACMB"
      },
      "outputs": [],
      "source": [
        "import requests\n",
        "import pandas as pd\n",
        "\n",
        "diccionario = {\"titulo\":[],\"descripcion\":[],\"categoria\":[], \"rate\":[], \"count\": [], \"precio\":[]}\n",
        "respuesta = requests.get('https://fakestoreapi.com/products')\n",
        "\n",
        "for producto in respuesta.json():\n",
        "    diccionario[\"titulo\"].append(producto[\"title\"])\n",
        "    diccionario[\"descripcion\"].append(producto[\"description\"])\n",
        "    diccionario[\"categoria\"].append(producto[\"category\"])\n",
        "    diccionario[\"rate\"].append(producto[\"rating\"][\"rate\"])\n",
        "    diccionario[\"count\"].append(producto[\"rating\"][\"count\"])\n",
        "    diccionario[\"precio\"].append(producto[\"price\"])\n",
        "\n",
        "data = pd.DataFrame(diccionario)\n",
        "data.to_csv(\"./datosProductos.csv\")"
      ]
    },
    {
      "cell_type": "markdown",
      "source": [
        "Consultas a la tabla:\n",
        "\n",
        "\n",
        "\n",
        "SELECT categoria, count(*) FROM `refreshing-mark-428202-k0.DATASET1.Productos` group by categoria;\n",
        "\n",
        "select categoria, sum(count) as cantidad FROM `refreshing-mark-428202-k0.DATASET1.Productos` group by categoria order by cantidad desc ;\n",
        "\n",
        "SELECT titulo ,rate FROM `refreshing-mark-428202-k0.DATASET1.Productos` order by rate desc limit 5;\n",
        "\n",
        "SELECT titulo ,precio FROM `refreshing-mark-428202-k0.DATASET1.Productos` order by precio desc limit 5;"
      ],
      "metadata": {
        "id": "E8Sq2w2DKB1s"
      }
    }
  ]
}